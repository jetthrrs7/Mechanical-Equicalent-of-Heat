{
 "cells": [
  {
   "cell_type": "markdown",
   "metadata": {},
   "source": [
    "#MECHANICAL EQUIVALENT OF HEAT"
   ]
  },
  {
   "cell_type": "code",
   "execution_count": 22,
   "metadata": {},
   "outputs": [
    {
     "name": "stdout",
     "output_type": "stream",
     "text": [
      "16.369999999999997\n",
      "3102.3415698431018\n",
      "710.7952219999999\n",
      "4.364606674076803\n",
      "0.14142135623730953\n",
      "11.408547127917043\n",
      "6.150584751738977\n",
      "0.041036463940688425\n",
      "J = 4.364606674076803 +/- 0.041036463940688425\n"
     ]
    }
   ],
   "source": [
    "import math as np \n",
    "\n",
    "masscyl = 0.2029\n",
    "errm = 0.0001\n",
    "Mbuck = 6.355\n",
    "errM = 0.0001\n",
    "g = 9.81\n",
    "r = 0.024\n",
    "err_r = 0.00005\n",
    "c = 214\n",
    "\n",
    "N = 330\n",
    "errN = 1 \n",
    "\n",
    "Tstart = 12.63\n",
    "Tfinish = 29\n",
    "errT = 0.1\n",
    "\n",
    "deltaT = Tfinish - Tstart\n",
    "print(deltaT)\n",
    "\n",
    "#Finding Work\n",
    "\n",
    "W = Mbuck * g * r * 2 * np.pi * N\n",
    "print(W)\n",
    "\n",
    "#Finding Heat\n",
    "\n",
    "Q = masscyl * c * deltaT\n",
    "print(Q)\n",
    "\n",
    "#Finding J\n",
    "\n",
    "J = W/Q\n",
    "print(J)\n",
    "\n",
    "#Finding Uncertainty of Temp\n",
    "err_T = np.sqrt((errT)**2 + (errT)**2)\n",
    "print(err_T)\n",
    "\n",
    "#Error of Work\n",
    "\n",
    "errW = W * np.sqrt((errM / Mbuck) ** 2 + (err_r / r) ** 2 + (errN / N) ** 2)\n",
    "print(errW)\n",
    "\n",
    "#Error in Heat\n",
    "\n",
    "errQ = Q * np.sqrt((errm/masscyl)**2 + (err_T/deltaT)**2)\n",
    "print(errQ)\n",
    "\n",
    "#Error in J\n",
    "\n",
    "errJ = J * np.sqrt((errW/W)**2 + (errQ/Q)**2)\n",
    "print(errJ)\n",
    "\n",
    "#Final Value of J with uncertainty \n",
    "\n",
    "print('J =',J, '+/-', errJ)\n",
    "\n",
    "\n",
    "\n",
    "\n",
    "\n"
   ]
  }
 ],
 "metadata": {
  "kernelspec": {
   "display_name": "Python 3",
   "language": "python",
   "name": "python3"
  },
  "language_info": {
   "codemirror_mode": {
    "name": "ipython",
    "version": 3
   },
   "file_extension": ".py",
   "mimetype": "text/x-python",
   "name": "python",
   "nbconvert_exporter": "python",
   "pygments_lexer": "ipython3",
   "version": "3.8.3"
  }
 },
 "nbformat": 4,
 "nbformat_minor": 4
}
